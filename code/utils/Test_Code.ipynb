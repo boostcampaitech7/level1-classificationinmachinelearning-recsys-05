{
 "cells": [
  {
   "cell_type": "markdown",
   "metadata": {},
   "source": [
    "#### `dataload.load_data` 테스트"
   ]
  },
  {
   "cell_type": "code",
   "execution_count": 2,
   "metadata": {},
   "outputs": [
    {
     "name": "stderr",
     "output_type": "stream",
     "text": [
      "100%|██████████| 107/107 [00:04<00:00, 26.63it/s]\n"
     ]
    }
   ],
   "source": [
    "from dataload import load_data\n",
    "\n",
    "data_path = \"../data\"\n",
    "data = load_data(data_path)\n",
    "\n",
    "# 이제 data 딕셔너리에서 필요한 데이터프레임을 사용할 수 있습니다.\n",
    "train_df = data['train']\n",
    "test_df = data['test']\n",
    "submission_df = data['submission']\n",
    "df = data['combined']"
   ]
  },
  {
   "cell_type": "code",
   "execution_count": 8,
   "metadata": {},
   "outputs": [
    {
     "name": "stdout",
     "output_type": "stream",
     "text": [
      "df.shape = (11552, 255)\n",
      "train_df.shape = (8760, 3)\n",
      "test_df.shape = (2792, 2)\n",
      "submission_df.shape = (2792, 1)\n"
     ]
    }
   ],
   "source": [
    "print(f'df.shape = {df.shape}')\n",
    "print(f'train_df.shape = {train_df.shape}')\n",
    "print(f'test_df.shape = {test_df.shape}')\n",
    "print(f'submission_df.shape = {submission_df.shape}')"
   ]
  },
  {
   "cell_type": "markdown",
   "metadata": {},
   "source": [
    "#### `dataload.load_total_data`, `dataload.save_processed_data` 테스트"
   ]
  },
  {
   "cell_type": "code",
   "execution_count": 2,
   "metadata": {},
   "outputs": [
    {
     "name": "stderr",
     "output_type": "stream",
     "text": [
      "Merging files: 100%|██████████| 107/107 [00:27<00:00,  3.84it/s]\n"
     ]
    },
    {
     "name": "stdout",
     "output_type": "stream",
     "text": [
      "Processed data saved to ./processed_data.csv\n"
     ]
    }
   ],
   "source": [
    "from dataload import load_total_data, save_processed_data\n",
    "\n",
    "data_path = \"../data\"\n",
    "output_path = \"./processed_data.csv\"\n",
    "\n",
    "df = load_total_data(data_path)\n",
    "save_processed_data(df, output_path)"
   ]
  },
  {
   "cell_type": "code",
   "execution_count": null,
   "metadata": {},
   "outputs": [],
   "source": []
  }
 ],
 "metadata": {
  "kernelspec": {
   "display_name": ".venv",
   "language": "python",
   "name": "python3"
  },
  "language_info": {
   "codemirror_mode": {
    "name": "ipython",
    "version": 3
   },
   "file_extension": ".py",
   "mimetype": "text/x-python",
   "name": "python",
   "nbconvert_exporter": "python",
   "pygments_lexer": "ipython3",
   "version": "3.11.0"
  }
 },
 "nbformat": 4,
 "nbformat_minor": 2
}
