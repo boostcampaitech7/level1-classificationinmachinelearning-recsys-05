{
 "cells": [
  {
   "cell_type": "code",
   "execution_count": null,
   "metadata": {},
   "outputs": [],
   "source": [
    "import glob\n",
    "import pandas as pd"
   ]
  },
  {
   "cell_type": "markdown",
   "metadata": {},
   "source": [
    "## 차분값, 이동평균, MACD 함수 계산 후 csv저장"
   ]
  },
  {
   "cell_type": "code",
   "execution_count": null,
   "metadata": {},
   "outputs": [],
   "source": [
    "# MACD 계산 함수\n",
    "def calculate_macd(data, col_name, short_window=3, long_window=5, signal_window=9):\n",
    "    short_ema = data[col_name].ewm(span=short_window, adjust=False).mean()\n",
    "    long_ema = data[col_name].ewm(span=long_window, adjust=False).mean()\n",
    "    \n",
    "    data[f'{col_name}_macd'] = short_ema - long_ema\n",
    "    data[f'{col_name}_signal'] = data[f'{col_name}_macd'].ewm(span=signal_window, adjust=False).mean()\n",
    "    data[f'{col_name}_macd_hist'] = data[f'{col_name}_macd'] - data[f'{col_name}_signal']\n",
    "    \n",
    "    return data"
   ]
  },
  {
   "cell_type": "code",
   "execution_count": null,
   "metadata": {},
   "outputs": [],
   "source": [
    "# HOURLY_로 시작하는 모든 .csv 파일 경로 찾기\n",
    "file_paths = glob.glob('/data/ephemeral/home/Jinwook/project/level1-classificationinmachinelearning-recsys-05/data2 copy/HOURLY_MARKET-close_pred.csv')  # 경로를 실제 디렉토리로 변경하세요.\n",
    "\n",
    "# 모든 파일 처리\n",
    "for file in file_paths:\n",
    "    # CSV 파일 읽기\n",
    "    df = pd.read_csv(file)\n",
    "    \n",
    "    # datetime column을 제외한 모든 칼럼에 대해 현재값 - 이전값 계산\n",
    "    for col in df.columns:\n",
    "        if col != 'datetime':  # datetime column 제외\n",
    "            df[f'{col}_diff'] = df[col].diff()  # 현재값 - 이전값\n",
    "            df[f'{col}_3h_ma'] = df[col].rolling(window=3).mean()\n",
    "\n",
    "            # MACD 계산\n",
    "            df = calculate_macd(df, col_name=col)\n",
    "    \n",
    "    # 수정된 DataFrame을 새로운 파일로 저장\n",
    "    df.to_csv(file, index=False)"
   ]
  },
  {
   "cell_type": "markdown",
   "metadata": {},
   "source": [
    "## 차분값의 변동율 추종 여부 계산"
   ]
  },
  {
   "cell_type": "code",
   "execution_count": null,
   "metadata": {},
   "outputs": [],
   "source": [
    "# 데이터 로드\n",
    "data = pd.read_csv('/data/ephemeral/home/Jinwook/project/level1-classificationinmachinelearning-recsys-05/data2 copy/HOURLY_MARKET-close_pred_with_ma_diff.csv')\n",
    "data1 = pd.read_csv('/data/ephemeral/home/Jinwook/project/level1-classificationinmachinelearning-recsys-05/data2 copy/HOURLY_MARKET-close_with_ma_diff.csv')\n",
    "\n",
    "\n",
    "# 차분값의 부호가 같은지 여부 확인 (True/False)\n",
    "data['same_sign'] = (data['close_3h_ma_diff'] * data1['close_pred_3h_ma_diff']) > 0\n",
    "\n",
    "# True의 비율 계산\n",
    "true_ratio = data['same_sign'].mean()\n",
    "\n",
    "# 결과 출력\n",
    "print(f\"True 비율: {true_ratio:.2%}\")"
   ]
  }
 ],
 "metadata": {
  "language_info": {
   "name": "python"
  }
 },
 "nbformat": 4,
 "nbformat_minor": 2
}
